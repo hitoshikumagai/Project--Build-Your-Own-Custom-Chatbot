{
 "cells": [
  {
   "cell_type": "markdown",
   "id": "32a86128",
   "metadata": {},
   "source": [
    "# Step 2: Finding Relevant Data"
   ]
  },
  {
   "cell_type": "markdown",
   "id": "6e411bad",
   "metadata": {},
   "source": [
    "Add your API key to the cell below then run it."
   ]
  },
  {
   "cell_type": "code",
   "execution_count": 1,
   "id": "bda6008b",
   "metadata": {},
   "outputs": [],
   "source": [
    "import openai\n",
    "openai.api_key = \"sk-proj-jCMuei3DUXDlGchRhc0YT3BlbkFJlNgyekcYUyH2OWhID6zA\""
   ]
  },
  {
   "cell_type": "markdown",
   "id": "c94891e7",
   "metadata": {},
   "source": [
    "The code below loads in the embeddings you previously created. Run it as-is."
   ]
  },
  {
   "cell_type": "code",
   "execution_count": 2,
   "id": "8079085d",
   "metadata": {},
   "outputs": [
    {
     "data": {
      "text/html": [
       "<div>\n",
       "<style scoped>\n",
       "    .dataframe tbody tr th:only-of-type {\n",
       "        vertical-align: middle;\n",
       "    }\n",
       "\n",
       "    .dataframe tbody tr th {\n",
       "        vertical-align: top;\n",
       "    }\n",
       "\n",
       "    .dataframe thead th {\n",
       "        text-align: right;\n",
       "    }\n",
       "</style>\n",
       "<table border=\"1\" class=\"dataframe\">\n",
       "  <thead>\n",
       "    <tr style=\"text-align: right;\">\n",
       "      <th></th>\n",
       "      <th>text</th>\n",
       "      <th>embeddings</th>\n",
       "    </tr>\n",
       "  </thead>\n",
       "  <tbody>\n",
       "    <tr>\n",
       "      <th>0</th>\n",
       "      <td>On 6 February 2023, at 04:17 TRT (01:17 UTC), ...</td>\n",
       "      <td>[-0.007893280126154423, -0.014928885735571384,...</td>\n",
       "    </tr>\n",
       "    <tr>\n",
       "      <th>1</th>\n",
       "      <td>The Mw 7.8 earthquake is the largest in Turkey...</td>\n",
       "      <td>[0.00019082157814409584, -0.022295519709587097...</td>\n",
       "    </tr>\n",
       "    <tr>\n",
       "      <th>2</th>\n",
       "      <td>There was widespread damage in an area of abou...</td>\n",
       "      <td>[-0.0001506179105490446, -0.01705605536699295,...</td>\n",
       "    </tr>\n",
       "    <tr>\n",
       "      <th>3</th>\n",
       "      <td>The confirmed death toll in Turkey was 53,537;...</td>\n",
       "      <td>[0.0013410564279183745, -0.02500694990158081, ...</td>\n",
       "    </tr>\n",
       "    <tr>\n",
       "      <th>4</th>\n",
       "      <td>Damaged roads, winter storms, and disruption t...</td>\n",
       "      <td>[-0.018138449639081955, -0.014602766372263432,...</td>\n",
       "    </tr>\n",
       "    <tr>\n",
       "      <th>...</th>\n",
       "      <td>...</td>\n",
       "      <td>...</td>\n",
       "    </tr>\n",
       "    <tr>\n",
       "      <th>194</th>\n",
       "      <td>The International Seismological Centre has a b...</td>\n",
       "      <td>[-0.004581885877996683, -0.009613040834665298,...</td>\n",
       "    </tr>\n",
       "    <tr>\n",
       "      <th>195</th>\n",
       "      <td>The International Seismological Centre has a b...</td>\n",
       "      <td>[-0.00487518822774291, -0.0168690737336874, 0....</td>\n",
       "    </tr>\n",
       "    <tr>\n",
       "      <th>196</th>\n",
       "      <td>Erdik, M., Tümsa, M. B. D., Pınar, A., Altunel...</td>\n",
       "      <td>[-0.006733294576406479, -0.04049864038825035, ...</td>\n",
       "    </tr>\n",
       "    <tr>\n",
       "      <th>197</th>\n",
       "      <td>\"Kahramanmaraş Supersite science page\". Group ...</td>\n",
       "      <td>[0.003666419070214033, -0.007841319777071476, ...</td>\n",
       "    </tr>\n",
       "    <tr>\n",
       "      <th>198</th>\n",
       "      <td>Schmitt, R.; Herman, M.; Barnhart, W.; Furlong...</td>\n",
       "      <td>[-0.015434404835104942, -0.022343523800373077,...</td>\n",
       "    </tr>\n",
       "  </tbody>\n",
       "</table>\n",
       "<p>199 rows × 2 columns</p>\n",
       "</div>"
      ],
      "text/plain": [
       "                                                  text  \\\n",
       "0    On 6 February 2023, at 04:17 TRT (01:17 UTC), ...   \n",
       "1    The Mw 7.8 earthquake is the largest in Turkey...   \n",
       "2    There was widespread damage in an area of abou...   \n",
       "3    The confirmed death toll in Turkey was 53,537;...   \n",
       "4    Damaged roads, winter storms, and disruption t...   \n",
       "..                                                 ...   \n",
       "194  The International Seismological Centre has a b...   \n",
       "195  The International Seismological Centre has a b...   \n",
       "196  Erdik, M., Tümsa, M. B. D., Pınar, A., Altunel...   \n",
       "197  \"Kahramanmaraş Supersite science page\". Group ...   \n",
       "198  Schmitt, R.; Herman, M.; Barnhart, W.; Furlong...   \n",
       "\n",
       "                                            embeddings  \n",
       "0    [-0.007893280126154423, -0.014928885735571384,...  \n",
       "1    [0.00019082157814409584, -0.022295519709587097...  \n",
       "2    [-0.0001506179105490446, -0.01705605536699295,...  \n",
       "3    [0.0013410564279183745, -0.02500694990158081, ...  \n",
       "4    [-0.018138449639081955, -0.014602766372263432,...  \n",
       "..                                                 ...  \n",
       "194  [-0.004581885877996683, -0.009613040834665298,...  \n",
       "195  [-0.00487518822774291, -0.0168690737336874, 0....  \n",
       "196  [-0.006733294576406479, -0.04049864038825035, ...  \n",
       "197  [0.003666419070214033, -0.007841319777071476, ...  \n",
       "198  [-0.015434404835104942, -0.022343523800373077,...  \n",
       "\n",
       "[199 rows x 2 columns]"
      ]
     },
     "execution_count": 2,
     "metadata": {},
     "output_type": "execute_result"
    }
   ],
   "source": [
    "import numpy as np\n",
    "import pandas as pd\n",
    "\n",
    "df = pd.read_csv(\"embeddings.csv\", index_col=0)\n",
    "df[\"embeddings\"] = df[\"embeddings\"].apply(eval).apply(np.array)\n",
    "df"
   ]
  },
  {
   "cell_type": "markdown",
   "id": "f9f55c03",
   "metadata": {},
   "source": [
    "## TODO 1: Create Embeddings for the User's Question\n",
    "\n",
    "In the previous exercise, you were given the code to create embeddings for everything in the dataset. Now your task is to create embeddings for just one string: the user's question. Assign the result to the variable `question_embeddings`. This variable should contain a list of 1,536 floating point numbers, and the provided code will print the first 100 once `question_embeddings` has been created correctly.\n",
    "\n",
    "If you're getting stuck, you can click to reveal the solution then copy and paste this into the cell below.\n",
    "\n",
    "---\n",
    "\n",
    "<details>\n",
    "    <summary style=\"cursor: pointer\"><strong>Solution (click to show/hide)</strong></summary>\n",
    "\n",
    "```python\n",
    "EMBEDDING_MODEL_NAME = \"text-embedding-ada-002\"\n",
    "USER_QUESTION = \"\"\"What were the estimated damages of the 2023 \\\n",
    "Turkey-Syria earthquake?\"\"\"\n",
    "\n",
    "# Generate the embedding response\n",
    "response = openai.Embedding.create(\n",
    "    input=USER_QUESTION,\n",
    "    engine=EMBEDDING_MODEL_NAME\n",
    ")\n",
    "\n",
    "# Extract the embeddings from the response\n",
    "question_embeddings = response[\"data\"][0][\"embedding\"]\n",
    "\n",
    "print(question_embeddings[:100])\n",
    "```\n",
    "\n",
    "</details>"
   ]
  },
  {
   "cell_type": "code",
   "execution_count": 4,
   "id": "a41fd038",
   "metadata": {},
   "outputs": [],
   "source": [
    "from openai.embeddings_utils import get_embedding"
   ]
  },
  {
   "cell_type": "code",
   "execution_count": 5,
   "id": "fd5e0998",
   "metadata": {},
   "outputs": [
    {
     "name": "stdout",
     "output_type": "stream",
     "text": [
      "[0.005581929348409176, -0.024909110739827156, 0.0022204634733498096, -0.012141861021518707, -0.021516041830182076, 0.0025265049189329147, -0.03382423147559166, -0.013119862414896488, 0.002315269783139229, -0.014889580197632313, 0.01624680683016777, 0.04444253444671631, -0.01022577565163374, -0.013153128325939178, 0.015062560327351093, -0.005322459619492292, 0.012421289458870888, -0.013053331524133682, 0.008283077739179134, -0.0057915011420845985, -0.007451443001627922, 0.011496512219309807, 0.012407983653247356, -0.009034874849021435, 0.015115784481167793, 0.03217426687479019, 0.008070179261267185, -0.002443341538310051, -0.0008981650462374091, -0.012108595110476017, 0.005545337218791246, -0.006573237478733063, -0.023538576439023018, 0.0151823153719306, -0.032413776963949203, -0.007544586434960365, 0.0068925851956009865, -0.0048234788700938225, 0.023378903046250343, -0.00795042421668768, 0.010125978849828243, 0.028634831309318542, 0.013000107370316982, -0.00770425982773304, -0.017497586086392403, -0.004277926869690418, 0.017244769260287285, 0.0030853631906211376, -0.004833458457142115, 0.02118338830769062, 0.013106556609272957, 0.026758665218949318, -0.03781607374548912, -0.020251957699656487, -0.01564803160727024, -0.016499623656272888, -0.0013272883370518684, -0.01967979408800602, -0.00026861787773668766, -0.011516471393406391, 0.009181242436170578, -0.0068526663817465305, -0.028767893090844154, 0.0014137782854959369, -0.013931537978351116, -0.015208927914500237, 0.00767764775082469, -0.020917264744639397, -0.019693100824952126, 0.010864470154047012, 0.05013756826519966, 0.04766262322664261, 0.0009089763043448329, -0.05710998922586441, 0.035208068788051605, -0.004919948522001505, 0.0179233830422163, -0.00653997203335166, -0.007325034588575363, 0.002458310918882489, 0.03656529635190964, -0.02023865282535553, -0.0037656400818377733, 0.001397977233864367, 0.03150895982980728, -0.0008328817202709615, 0.005219336599111557, 0.009427405893802643, -0.029326751828193665, 0.01779032126069069, 0.012853739783167839, 0.0303646307438612, -0.003449619049206376, 0.009886468760669231, 0.0008532567881047726, -0.007584504783153534, -0.02566756121814251, 0.01701856404542923, -0.015661336481571198, -0.0459328256547451]\n"
     ]
    }
   ],
   "source": [
    "EMBEDDING_MODEL_NAME = \"text-embedding-ada-002\"\n",
    "USER_QUESTION = \"\"\"What were the estimated damages of the 2023 \\\n",
    "Turkey-Syria earthquake?\"\"\"\n",
    "\n",
    "# Generate the embedding response\n",
    "response = get_embedding(USER_QUESTION, engine=EMBEDDING_MODEL_NAME)\n",
    "\n",
    "# Extract the embeddings from the response\n",
    "question_embeddings = response\n",
    "\n",
    "print(question_embeddings[:100])"
   ]
  },
  {
   "cell_type": "markdown",
   "id": "ee9cc40d",
   "metadata": {},
   "source": [
    "## TODO 2: Find Cosine Distances"
   ]
  },
  {
   "cell_type": "markdown",
   "id": "5a68de2b",
   "metadata": {},
   "source": [
    "Create a new list called `distances`, which represents the cosine distances between `question_embeddings` and each value in the `'embeddings'` column of `df`.\n",
    "\n",
    "If you're getting stuck, you can click to reveal the solution then copy and paste this into the cell below.\n",
    "\n",
    "---\n",
    "\n",
    "<details>\n",
    "    <summary style=\"cursor: pointer\"><strong>Solution (click to show/hide)</strong></summary>\n",
    "\n",
    "```python\n",
    "from openai.embeddings_utils import distances_from_embeddings\n",
    "\n",
    "# Create a list containing the distances from question_embeddings\n",
    "distances = distances_from_embeddings(\n",
    "    question_embeddings,\n",
    "    df[\"embeddings\"],\n",
    "    distance_metric=\"cosine\"\n",
    ")\n",
    "\n",
    "print(distances[:100])\n",
    "```\n",
    "\n",
    "</details>"
   ]
  },
  {
   "cell_type": "code",
   "execution_count": null,
   "id": "7fd30911",
   "metadata": {},
   "outputs": [],
   "source": [
    "from openai.embeddings_utils import distances_from_embeddings\n",
    "\n",
    "# Create a list containing the distances from question_embeddings\n",
    "distances = \n",
    "\n",
    "print(distances[:100])"
   ]
  },
  {
   "cell_type": "markdown",
   "id": "f557de6a",
   "metadata": {},
   "source": [
    "## Sorting by Distance\n",
    "\n",
    "The code below uses the `distances` list to update `df` then sorts `df` to find the most related rows. Shorter distance means more similarity, so we'll use an ascending sorting order. Run the cell below as-is."
   ]
  },
  {
   "cell_type": "code",
   "execution_count": null,
   "id": "338c33f1",
   "metadata": {},
   "outputs": [],
   "source": [
    "df[\"distances\"] = distances\n",
    "df.sort_values(by=\"distances\", ascending=True, inplace=True)\n",
    "df.head(5)"
   ]
  },
  {
   "cell_type": "markdown",
   "id": "b08c82d1",
   "metadata": {},
   "source": [
    "Great, now we have the dataset sorted from most relevant to least relevant! Let's save this as a CSV so we can load it in the next step and compose a custom prompt.\n",
    "\n",
    "Run the cell below as-is."
   ]
  },
  {
   "cell_type": "code",
   "execution_count": null,
   "id": "89beaf82",
   "metadata": {},
   "outputs": [],
   "source": [
    "df.to_csv(\"distances.csv\")"
   ]
  },
  {
   "cell_type": "code",
   "execution_count": null,
   "id": "15aaf8cd",
   "metadata": {},
   "outputs": [],
   "source": []
  }
 ],
 "metadata": {
  "kernelspec": {
   "display_name": "Python 3 (ipykernel)",
   "language": "python",
   "name": "python3"
  },
  "language_info": {
   "codemirror_mode": {
    "name": "ipython",
    "version": 3
   },
   "file_extension": ".py",
   "mimetype": "text/x-python",
   "name": "python",
   "nbconvert_exporter": "python",
   "pygments_lexer": "ipython3",
   "version": "3.9.18"
  }
 },
 "nbformat": 4,
 "nbformat_minor": 5
}
